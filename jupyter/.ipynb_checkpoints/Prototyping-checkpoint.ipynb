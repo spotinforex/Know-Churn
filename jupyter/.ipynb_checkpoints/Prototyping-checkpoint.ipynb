{
 "cells": [
  {
   "cell_type": "code",
   "execution_count": 26,
   "id": "6e3040a8-cb9d-4181-8511-27a2ff8ac733",
   "metadata": {},
   "outputs": [],
   "source": [
    "import pandas as pd\n",
    "import numpy as np\n",
    "import seaborn as sns\n",
    "import matplotlib.pyplot as plt\n",
    "from sklearn.model_selection import train_test_split\n",
    "from sklearn.preprocessing import OrdinalEncoder\n",
    "from sklearn.metrics import roc_auc_score as rc\n",
    "from sklearn.metrics import f1_score, recall_score, precision_score\n",
    "from lightgbm import LGBMClassifier as LC\n",
    "from catboost import CatBoostClassifier as CB\n",
    "from sklearn.ensemble import RandomForestClassifier as RFC\n",
    "from sklearn.model_selection import cross_val_score\n",
    "from sklearn.pipeline import make_pipeline\n",
    "import shap\n",
    "import warnings\n",
    "warnings.filterwarnings('ignore')"
   ]
  },
  {
   "cell_type": "code",
   "execution_count": 2,
   "id": "cb1d1586-8e3b-4dd2-91b6-9ebbecbc7ca7",
   "metadata": {},
   "outputs": [],
   "source": [
    "def load_data(data):\n",
    "    '''  \n",
    "    Loads the csv file\n",
    "    \n",
    "    Args:\n",
    "         datafile   \n",
    "         '''\n",
    "    try: \n",
    "       return pd.read_csv(data)\n",
    "        \n",
    "    except Exception as e:\n",
    "            raise e"
   ]
  },
  {
   "cell_type": "code",
   "execution_count": 3,
   "id": "10559798-a377-41b3-8639-a2d345eeda80",
   "metadata": {},
   "outputs": [
    {
     "data": {
      "text/plain": [
       "[]"
      ]
     },
     "execution_count": 3,
     "metadata": {},
     "output_type": "execute_result"
    }
   ],
   "source": [
    "data = load_data('data/telco_churn_with_all_feedback.csv')\n",
    "\n",
    "# Checking for null values \n",
    "\n",
    "[x for x in data.isnull().sum() if x  > 0 ]"
   ]
  },
  {
   "cell_type": "markdown",
   "id": "a6696d31-e596-4293-8645-592e9d42a45a",
   "metadata": {},
   "source": [
    "There appears to be no null values in the dataframe. Next visualizing the data"
   ]
  },
  {
   "cell_type": "code",
   "execution_count": 4,
   "id": "ea893ba2-ae05-454a-b9cc-96865edef38a",
   "metadata": {},
   "outputs": [
    {
     "data": {
      "text/html": [
       "<div>\n",
       "<style scoped>\n",
       "    .dataframe tbody tr th:only-of-type {\n",
       "        vertical-align: middle;\n",
       "    }\n",
       "\n",
       "    .dataframe tbody tr th {\n",
       "        vertical-align: top;\n",
       "    }\n",
       "\n",
       "    .dataframe thead th {\n",
       "        text-align: right;\n",
       "    }\n",
       "</style>\n",
       "<table border=\"1\" class=\"dataframe\">\n",
       "  <thead>\n",
       "    <tr style=\"text-align: right;\">\n",
       "      <th></th>\n",
       "      <th>customerID</th>\n",
       "      <th>gender</th>\n",
       "      <th>SeniorCitizen</th>\n",
       "      <th>Partner</th>\n",
       "      <th>Dependents</th>\n",
       "      <th>tenure</th>\n",
       "      <th>PhoneService</th>\n",
       "      <th>MultipleLines</th>\n",
       "      <th>InternetService</th>\n",
       "      <th>OnlineSecurity</th>\n",
       "      <th>...</th>\n",
       "      <th>StreamingTV</th>\n",
       "      <th>StreamingMovies</th>\n",
       "      <th>Contract</th>\n",
       "      <th>PaperlessBilling</th>\n",
       "      <th>PaymentMethod</th>\n",
       "      <th>MonthlyCharges</th>\n",
       "      <th>TotalCharges</th>\n",
       "      <th>Churn</th>\n",
       "      <th>PromptInput</th>\n",
       "      <th>CustomerFeedback</th>\n",
       "    </tr>\n",
       "  </thead>\n",
       "  <tbody>\n",
       "    <tr>\n",
       "      <th>0</th>\n",
       "      <td>7590-VHVEG</td>\n",
       "      <td>Female</td>\n",
       "      <td>0</td>\n",
       "      <td>Yes</td>\n",
       "      <td>No</td>\n",
       "      <td>1</td>\n",
       "      <td>No</td>\n",
       "      <td>No phone service</td>\n",
       "      <td>DSL</td>\n",
       "      <td>No</td>\n",
       "      <td>...</td>\n",
       "      <td>No</td>\n",
       "      <td>No</td>\n",
       "      <td>Month-to-month</td>\n",
       "      <td>Yes</td>\n",
       "      <td>Electronic check</td>\n",
       "      <td>29.85</td>\n",
       "      <td>29.85</td>\n",
       "      <td>No</td>\n",
       "      <td>Write a realistic customer feedback based on t...</td>\n",
       "      <td>I have been using the DSL internet service fro...</td>\n",
       "    </tr>\n",
       "    <tr>\n",
       "      <th>1</th>\n",
       "      <td>5575-GNVDE</td>\n",
       "      <td>Male</td>\n",
       "      <td>0</td>\n",
       "      <td>No</td>\n",
       "      <td>No</td>\n",
       "      <td>34</td>\n",
       "      <td>Yes</td>\n",
       "      <td>No</td>\n",
       "      <td>DSL</td>\n",
       "      <td>Yes</td>\n",
       "      <td>...</td>\n",
       "      <td>No</td>\n",
       "      <td>No</td>\n",
       "      <td>One year</td>\n",
       "      <td>No</td>\n",
       "      <td>Mailed check</td>\n",
       "      <td>56.95</td>\n",
       "      <td>1889.5</td>\n",
       "      <td>No</td>\n",
       "      <td>Write a realistic customer feedback based on t...</td>\n",
       "      <td>I have been a customer with this company for o...</td>\n",
       "    </tr>\n",
       "    <tr>\n",
       "      <th>2</th>\n",
       "      <td>3668-QPYBK</td>\n",
       "      <td>Male</td>\n",
       "      <td>0</td>\n",
       "      <td>No</td>\n",
       "      <td>No</td>\n",
       "      <td>2</td>\n",
       "      <td>Yes</td>\n",
       "      <td>No</td>\n",
       "      <td>DSL</td>\n",
       "      <td>Yes</td>\n",
       "      <td>...</td>\n",
       "      <td>No</td>\n",
       "      <td>No</td>\n",
       "      <td>Month-to-month</td>\n",
       "      <td>Yes</td>\n",
       "      <td>Mailed check</td>\n",
       "      <td>53.85</td>\n",
       "      <td>108.15</td>\n",
       "      <td>Yes</td>\n",
       "      <td>Write a realistic customer feedback based on t...</td>\n",
       "      <td>I recently signed up for DSL internet service ...</td>\n",
       "    </tr>\n",
       "    <tr>\n",
       "      <th>3</th>\n",
       "      <td>7795-CFOCW</td>\n",
       "      <td>Male</td>\n",
       "      <td>0</td>\n",
       "      <td>No</td>\n",
       "      <td>No</td>\n",
       "      <td>45</td>\n",
       "      <td>No</td>\n",
       "      <td>No phone service</td>\n",
       "      <td>DSL</td>\n",
       "      <td>Yes</td>\n",
       "      <td>...</td>\n",
       "      <td>No</td>\n",
       "      <td>No</td>\n",
       "      <td>One year</td>\n",
       "      <td>No</td>\n",
       "      <td>Bank transfer (automatic)</td>\n",
       "      <td>42.30</td>\n",
       "      <td>1840.75</td>\n",
       "      <td>No</td>\n",
       "      <td>Write a realistic customer feedback based on t...</td>\n",
       "      <td>I have been a loyal customer with this company...</td>\n",
       "    </tr>\n",
       "    <tr>\n",
       "      <th>4</th>\n",
       "      <td>9237-HQITU</td>\n",
       "      <td>Female</td>\n",
       "      <td>0</td>\n",
       "      <td>No</td>\n",
       "      <td>No</td>\n",
       "      <td>2</td>\n",
       "      <td>Yes</td>\n",
       "      <td>No</td>\n",
       "      <td>Fiber optic</td>\n",
       "      <td>No</td>\n",
       "      <td>...</td>\n",
       "      <td>No</td>\n",
       "      <td>No</td>\n",
       "      <td>Month-to-month</td>\n",
       "      <td>Yes</td>\n",
       "      <td>Electronic check</td>\n",
       "      <td>70.70</td>\n",
       "      <td>151.65</td>\n",
       "      <td>Yes</td>\n",
       "      <td>Write a realistic customer feedback based on t...</td>\n",
       "      <td>I recently switched to this fiber optic intern...</td>\n",
       "    </tr>\n",
       "    <tr>\n",
       "      <th>...</th>\n",
       "      <td>...</td>\n",
       "      <td>...</td>\n",
       "      <td>...</td>\n",
       "      <td>...</td>\n",
       "      <td>...</td>\n",
       "      <td>...</td>\n",
       "      <td>...</td>\n",
       "      <td>...</td>\n",
       "      <td>...</td>\n",
       "      <td>...</td>\n",
       "      <td>...</td>\n",
       "      <td>...</td>\n",
       "      <td>...</td>\n",
       "      <td>...</td>\n",
       "      <td>...</td>\n",
       "      <td>...</td>\n",
       "      <td>...</td>\n",
       "      <td>...</td>\n",
       "      <td>...</td>\n",
       "      <td>...</td>\n",
       "      <td>...</td>\n",
       "    </tr>\n",
       "    <tr>\n",
       "      <th>7038</th>\n",
       "      <td>4702-IOQDC</td>\n",
       "      <td>Female</td>\n",
       "      <td>0</td>\n",
       "      <td>No</td>\n",
       "      <td>No</td>\n",
       "      <td>1</td>\n",
       "      <td>Yes</td>\n",
       "      <td>No</td>\n",
       "      <td>Fiber optic</td>\n",
       "      <td>No</td>\n",
       "      <td>...</td>\n",
       "      <td>No</td>\n",
       "      <td>No</td>\n",
       "      <td>Month-to-month</td>\n",
       "      <td>Yes</td>\n",
       "      <td>Electronic check</td>\n",
       "      <td>70.10</td>\n",
       "      <td>70.1</td>\n",
       "      <td>Yes</td>\n",
       "      <td>Write a realistic customer feedback based on t...</td>\n",
       "      <td>I recently signed up for the fiber optic inter...</td>\n",
       "    </tr>\n",
       "    <tr>\n",
       "      <th>7039</th>\n",
       "      <td>9489-JMTTN</td>\n",
       "      <td>Female</td>\n",
       "      <td>0</td>\n",
       "      <td>Yes</td>\n",
       "      <td>Yes</td>\n",
       "      <td>72</td>\n",
       "      <td>Yes</td>\n",
       "      <td>Yes</td>\n",
       "      <td>DSL</td>\n",
       "      <td>Yes</td>\n",
       "      <td>...</td>\n",
       "      <td>Yes</td>\n",
       "      <td>Yes</td>\n",
       "      <td>Two year</td>\n",
       "      <td>No</td>\n",
       "      <td>Credit card (automatic)</td>\n",
       "      <td>89.75</td>\n",
       "      <td>6595.9</td>\n",
       "      <td>No</td>\n",
       "      <td>Write a realistic customer feedback based on t...</td>\n",
       "      <td>I have been a loyal customer with this company...</td>\n",
       "    </tr>\n",
       "    <tr>\n",
       "      <th>7040</th>\n",
       "      <td>0575-CUQOV</td>\n",
       "      <td>Male</td>\n",
       "      <td>1</td>\n",
       "      <td>Yes</td>\n",
       "      <td>No</td>\n",
       "      <td>60</td>\n",
       "      <td>Yes</td>\n",
       "      <td>No</td>\n",
       "      <td>Fiber optic</td>\n",
       "      <td>No</td>\n",
       "      <td>...</td>\n",
       "      <td>Yes</td>\n",
       "      <td>Yes</td>\n",
       "      <td>One year</td>\n",
       "      <td>Yes</td>\n",
       "      <td>Electronic check</td>\n",
       "      <td>97.95</td>\n",
       "      <td>5867</td>\n",
       "      <td>No</td>\n",
       "      <td>Write a realistic customer feedback based on t...</td>\n",
       "      <td>I have been a loyal customer of this company f...</td>\n",
       "    </tr>\n",
       "    <tr>\n",
       "      <th>7041</th>\n",
       "      <td>0967-BMLBD</td>\n",
       "      <td>Female</td>\n",
       "      <td>0</td>\n",
       "      <td>Yes</td>\n",
       "      <td>Yes</td>\n",
       "      <td>11</td>\n",
       "      <td>Yes</td>\n",
       "      <td>No</td>\n",
       "      <td>No</td>\n",
       "      <td>No internet service</td>\n",
       "      <td>...</td>\n",
       "      <td>No internet service</td>\n",
       "      <td>No internet service</td>\n",
       "      <td>One year</td>\n",
       "      <td>Yes</td>\n",
       "      <td>Mailed check</td>\n",
       "      <td>20.00</td>\n",
       "      <td>196.35</td>\n",
       "      <td>No</td>\n",
       "      <td>Write a realistic customer feedback based on t...</td>\n",
       "      <td>I have been a customer with this service provi...</td>\n",
       "    </tr>\n",
       "    <tr>\n",
       "      <th>7042</th>\n",
       "      <td>6178-KFNHS</td>\n",
       "      <td>Female</td>\n",
       "      <td>0</td>\n",
       "      <td>No</td>\n",
       "      <td>Yes</td>\n",
       "      <td>12</td>\n",
       "      <td>Yes</td>\n",
       "      <td>Yes</td>\n",
       "      <td>Fiber optic</td>\n",
       "      <td>Yes</td>\n",
       "      <td>...</td>\n",
       "      <td>No</td>\n",
       "      <td>No</td>\n",
       "      <td>Month-to-month</td>\n",
       "      <td>Yes</td>\n",
       "      <td>Electronic check</td>\n",
       "      <td>78.30</td>\n",
       "      <td>909.25</td>\n",
       "      <td>Yes</td>\n",
       "      <td>Write a realistic customer feedback based on t...</td>\n",
       "      <td>I recently decided to switch internet provider...</td>\n",
       "    </tr>\n",
       "  </tbody>\n",
       "</table>\n",
       "<p>7043 rows × 23 columns</p>\n",
       "</div>"
      ],
      "text/plain": [
       "      customerID  gender  SeniorCitizen Partner Dependents  tenure  \\\n",
       "0     7590-VHVEG  Female              0     Yes         No       1   \n",
       "1     5575-GNVDE    Male              0      No         No      34   \n",
       "2     3668-QPYBK    Male              0      No         No       2   \n",
       "3     7795-CFOCW    Male              0      No         No      45   \n",
       "4     9237-HQITU  Female              0      No         No       2   \n",
       "...          ...     ...            ...     ...        ...     ...   \n",
       "7038  4702-IOQDC  Female              0      No         No       1   \n",
       "7039  9489-JMTTN  Female              0     Yes        Yes      72   \n",
       "7040  0575-CUQOV    Male              1     Yes         No      60   \n",
       "7041  0967-BMLBD  Female              0     Yes        Yes      11   \n",
       "7042  6178-KFNHS  Female              0      No        Yes      12   \n",
       "\n",
       "     PhoneService     MultipleLines InternetService       OnlineSecurity  ...  \\\n",
       "0              No  No phone service             DSL                   No  ...   \n",
       "1             Yes                No             DSL                  Yes  ...   \n",
       "2             Yes                No             DSL                  Yes  ...   \n",
       "3              No  No phone service             DSL                  Yes  ...   \n",
       "4             Yes                No     Fiber optic                   No  ...   \n",
       "...           ...               ...             ...                  ...  ...   \n",
       "7038          Yes                No     Fiber optic                   No  ...   \n",
       "7039          Yes               Yes             DSL                  Yes  ...   \n",
       "7040          Yes                No     Fiber optic                   No  ...   \n",
       "7041          Yes                No              No  No internet service  ...   \n",
       "7042          Yes               Yes     Fiber optic                  Yes  ...   \n",
       "\n",
       "              StreamingTV      StreamingMovies        Contract  \\\n",
       "0                      No                   No  Month-to-month   \n",
       "1                      No                   No        One year   \n",
       "2                      No                   No  Month-to-month   \n",
       "3                      No                   No        One year   \n",
       "4                      No                   No  Month-to-month   \n",
       "...                   ...                  ...             ...   \n",
       "7038                   No                   No  Month-to-month   \n",
       "7039                  Yes                  Yes        Two year   \n",
       "7040                  Yes                  Yes        One year   \n",
       "7041  No internet service  No internet service        One year   \n",
       "7042                   No                   No  Month-to-month   \n",
       "\n",
       "     PaperlessBilling              PaymentMethod MonthlyCharges TotalCharges  \\\n",
       "0                 Yes           Electronic check          29.85        29.85   \n",
       "1                  No               Mailed check          56.95       1889.5   \n",
       "2                 Yes               Mailed check          53.85       108.15   \n",
       "3                  No  Bank transfer (automatic)          42.30      1840.75   \n",
       "4                 Yes           Electronic check          70.70       151.65   \n",
       "...               ...                        ...            ...          ...   \n",
       "7038              Yes           Electronic check          70.10         70.1   \n",
       "7039               No    Credit card (automatic)          89.75       6595.9   \n",
       "7040              Yes           Electronic check          97.95         5867   \n",
       "7041              Yes               Mailed check          20.00       196.35   \n",
       "7042              Yes           Electronic check          78.30       909.25   \n",
       "\n",
       "     Churn                                        PromptInput  \\\n",
       "0       No  Write a realistic customer feedback based on t...   \n",
       "1       No  Write a realistic customer feedback based on t...   \n",
       "2      Yes  Write a realistic customer feedback based on t...   \n",
       "3       No  Write a realistic customer feedback based on t...   \n",
       "4      Yes  Write a realistic customer feedback based on t...   \n",
       "...    ...                                                ...   \n",
       "7038   Yes  Write a realistic customer feedback based on t...   \n",
       "7039    No  Write a realistic customer feedback based on t...   \n",
       "7040    No  Write a realistic customer feedback based on t...   \n",
       "7041    No  Write a realistic customer feedback based on t...   \n",
       "7042   Yes  Write a realistic customer feedback based on t...   \n",
       "\n",
       "                                       CustomerFeedback  \n",
       "0     I have been using the DSL internet service fro...  \n",
       "1     I have been a customer with this company for o...  \n",
       "2     I recently signed up for DSL internet service ...  \n",
       "3     I have been a loyal customer with this company...  \n",
       "4     I recently switched to this fiber optic intern...  \n",
       "...                                                 ...  \n",
       "7038  I recently signed up for the fiber optic inter...  \n",
       "7039  I have been a loyal customer with this company...  \n",
       "7040  I have been a loyal customer of this company f...  \n",
       "7041  I have been a customer with this service provi...  \n",
       "7042  I recently decided to switch internet provider...  \n",
       "\n",
       "[7043 rows x 23 columns]"
      ]
     },
     "execution_count": 4,
     "metadata": {},
     "output_type": "execute_result"
    }
   ],
   "source": [
    "data"
   ]
  },
  {
   "cell_type": "markdown",
   "id": "d1da60ad-68e1-43f0-8c70-631097e29ac5",
   "metadata": {},
   "source": [
    "We can see the data has 7043 rows and 23 columns. Our target column is the Churn column. \n",
    "\n",
    "The PromptInput column is not neccessary for our model as it only just prompt the users input"
   ]
  },
  {
   "cell_type": "code",
   "execution_count": 5,
   "id": "20c6481a-04be-4263-a3c1-1a928cc781a9",
   "metadata": {},
   "outputs": [
    {
     "data": {
      "text/plain": [
       "Index(['customerID', 'gender', 'SeniorCitizen', 'Partner', 'Dependents',\n",
       "       'tenure', 'PhoneService', 'MultipleLines', 'InternetService',\n",
       "       'OnlineSecurity', 'OnlineBackup', 'DeviceProtection', 'TechSupport',\n",
       "       'StreamingTV', 'StreamingMovies', 'Contract', 'PaperlessBilling',\n",
       "       'PaymentMethod', 'MonthlyCharges', 'TotalCharges', 'Churn',\n",
       "       'CustomerFeedback'],\n",
       "      dtype='object')"
      ]
     },
     "execution_count": 5,
     "metadata": {},
     "output_type": "execute_result"
    }
   ],
   "source": [
    "data = data.drop('PromptInput', axis = 1)\n",
    "data.columns"
   ]
  },
  {
   "cell_type": "code",
   "execution_count": 6,
   "id": "dda9e0b7-73a5-4e82-9508-6ee858b38847",
   "metadata": {},
   "outputs": [
    {
     "data": {
      "text/plain": [
       "<Axes: xlabel='Churn'>"
      ]
     },
     "execution_count": 6,
     "metadata": {},
     "output_type": "execute_result"
    },
    {
     "data": {
      "image/png": "[encoded data removed]",
      "text/plain": [
       "<Figure size 640x480 with 1 Axes>"
      ]
     },
     "metadata": {},
     "output_type": "display_data"
    }
   ],
   "source": [
    "data['Churn'].value_counts().plot(kind = 'bar')"
   ]
  },
  {
   "cell_type": "markdown",
   "id": "86d9168a-815d-4895-9701-6985d952a430",
   "metadata": {},
   "source": [
    "As we can visualise, Our Churn target is an imbalanced column of churn users which is common.\n",
    "We will keep it in mind during Prediction "
   ]
  },
  {
   "cell_type": "code",
   "execution_count": 7,
   "id": "5440d1e9-26fc-4325-ad6e-4e1ed71344b9",
   "metadata": {},
   "outputs": [
    {
     "data": {
      "text/plain": [
       "['customerID',\n",
       " 'gender',\n",
       " 'Partner',\n",
       " 'Dependents',\n",
       " 'PhoneService',\n",
       " 'MultipleLines',\n",
       " 'InternetService',\n",
       " 'OnlineSecurity',\n",
       " 'OnlineBackup',\n",
       " 'DeviceProtection',\n",
       " 'TechSupport',\n",
       " 'StreamingTV',\n",
       " 'StreamingMovies',\n",
       " 'Contract',\n",
       " 'PaperlessBilling',\n",
       " 'PaymentMethod',\n",
       " 'TotalCharges',\n",
       " 'Churn',\n",
       " 'CustomerFeedback']"
      ]
     },
     "execution_count": 7,
     "metadata": {},
     "output_type": "execute_result"
    }
   ],
   "source": [
    "cat = data.select_dtypes(include = 'object').columns.tolist()\n",
    "cat"
   ]
  },
  {
   "cell_type": "markdown",
   "id": "cc43c92b-6546-4246-9b5a-c6dd06ad6f83",
   "metadata": {},
   "source": [
    "If we look closely at our categorical columns we find that TotalCharges is treated as a categorical column when its should not be"
   ]
  },
  {
   "cell_type": "code",
   "execution_count": 8,
   "id": "19fe7ded-4467-491b-81d9-883812bad0dd",
   "metadata": {},
   "outputs": [],
   "source": [
    "# Changing Total Charges to a numerical column\n",
    "data['TotalCharges'] = pd.to_numeric(data['TotalCharges'],errors = 'coerce')\n",
    "\n",
    "# Manually converting our target column to binary (This can also be done with an encoder)\n",
    "data['Churn'] = data['Churn'].map({'No' : 0, 'Yes': 1})"
   ]
  },
  {
   "cell_type": "code",
   "execution_count": 9,
   "id": "d7cb723e-dff5-4d5e-94c7-0dedcb87e48b",
   "metadata": {},
   "outputs": [
    {
     "data": {
      "text/plain": [
       "<Axes: >"
      ]
     },
     "execution_count": 9,
     "metadata": {},
     "output_type": "execute_result"
    },
    {
     "data": {
      "image/png": "[encoded data removed]",
      "text/plain": [
       "<Figure size 640x480 with 1 Axes>"
      ]
     },
     "metadata": {},
     "output_type": "display_data"
    }
   ],
   "source": [
    "# visualising correlation with numeric columns \n",
    "\n",
    "num = data.select_dtypes( include = ['int','float'])\n",
    "num.corr()['Churn'].plot(kind = 'barh')"
   ]
  },
  {
   "cell_type": "markdown",
   "id": "e9fdde5b-967f-4b77-b03f-afca1a9c898e",
   "metadata": {},
   "source": [
    "This quick visualization of our data shows a weak correlation of our numerical columns. Next let's split the data "
   ]
  },
  {
   "cell_type": "code",
   "execution_count": 10,
   "id": "a0c673e5-ce61-4c0d-985f-9881e353c3c4",
   "metadata": {},
   "outputs": [],
   "source": [
    "''' Checking how well the model performs without NLP for customer feedback\n",
    "    if it performs well no need for more resources to perform NLP '''\n",
    "\n",
    "X = data.drop(['Churn', 'customerID', 'CustomerFeedback'], axis = 1)\n",
    "y = data['Churn']\n",
    "\n",
    "X_train,X_test,y_train,y_test = train_test_split(X,y, test_size = 0.2, random_state = 42, stratify = y) # stratifying y due to target imbalance"
   ]
  },
  {
   "cell_type": "markdown",
   "id": "37d0727c-fb2d-446b-8433-2414c1b9bb5e",
   "metadata": {},
   "source": [
    "Training of the model using Cross validation to see performance in batches"
   ]
  },
  {
   "cell_type": "code",
   "execution_count": 11,
   "id": "3c553827-773e-472f-a542-477f6c9c7795",
   "metadata": {},
   "outputs": [
    {
     "name": "stdout",
     "output_type": "stream",
     "text": [
      " Training Model RF\n",
      " Training Model CATBOOST\n",
      " Training Model LIGHTGBM\n",
      "RF:\n",
      " Mean Accuracy: 0.63\n",
      " Std Dev 0.01\n",
      "CATBOOST:\n",
      " Mean Accuracy: 0.61\n",
      " Std Dev 0.03\n",
      "LIGHTGBM:\n",
      " Mean Accuracy: 0.61\n",
      " Std Dev 0.02\n"
     ]
    }
   ],
   "source": [
    "models = {\n",
    "     'RF': RFC(n_estimators = 500, criterion = 'log_loss', max_depth = 10, n_jobs = -1, random_state = 42, class_weight = 'balanced'),\n",
    "         'CATBOOST' : CB(verbose = 0, eval_metric = 'F1', learning_rate = 0.01, iterations = 1000, depth = 10),\n",
    "         'LIGHTGBM' : LC( n_estimators = 3000, max_depth = 10, learning_rate = 0.001, class_weight = 'balanced', \n",
    "              num_leaves = 100, reg_alpha = 1.0, reg_lambda = 1.0, random_state = 42)\n",
    "}\n",
    "\n",
    "# For encoding categorical variables \n",
    "encoder = OrdinalEncoder(handle_unknown = 'use_encoded_value', unknown_value = -1)    \n",
    "\n",
    "results = {}\n",
    "\n",
    "for name, model in models.items():\n",
    "    print(f\" Training Model {name}\")\n",
    "    pipeline = make_pipeline(\n",
    "        encoder,\n",
    "        model )\n",
    "    scores = cross_val_score(pipeline, X_train, y_train, cv=5, scoring = 'f1')\n",
    "    results[name] = {\n",
    "        'scores': scores,\n",
    "        'mean' : np.mean(scores),\n",
    "        'std' : np.std(scores)\n",
    "    }\n",
    "\n",
    "for name,res in results.items():\n",
    "    print(f\"{name}:\")\n",
    "    print(f\" Mean Accuracy: {res['mean']:.2f}\")\n",
    "    print(f\" Std Dev {res['std']:.2f}\") "
   ]
  },
  {
   "cell_type": "markdown",
   "id": "88acb803-cc55-4423-9821-b05172afc525",
   "metadata": {},
   "source": [
    "Descent F1 scores. All above 60% with catboost ranking last"
   ]
  },
  {
   "cell_type": "markdown",
   "id": "24ab5f9c-e417-4229-8067-fa4842686791",
   "metadata": {},
   "source": [
    "Prediction Time. Using different thresholds due to the imbalanced target to find optimal threshold"
   ]
  },
  {
   "cell_type": "code",
   "execution_count": 23,
   "id": "d007019a-b383-4c19-857f-17244f39de7d",
   "metadata": {},
   "outputs": [
    {
     "name": "stdout",
     "output_type": "stream",
     "text": [
      "\n",
      "================== Testing Model: RF ==================\n",
      "--- Train Performance ---\n",
      "Threshold 0.50 | F1: 0.7953 | Recall: 0.9110 | Precision: 0.7057\n",
      "Threshold 0.40 | F1: 0.7697 | Recall: 0.9726 | Precision: 0.6369\n",
      "Threshold 0.45 | F1: 0.7860 | Recall: 0.9485 | Precision: 0.6711\n",
      "Threshold 0.35 | F1: 0.7438 | Recall: 0.9913 | Precision: 0.5952\n",
      "Threshold 0.37 | F1: 0.7566 | Recall: 0.9866 | Precision: 0.6136\n",
      "--- Test Performance ---\n",
      "Threshold 0.50 | F1: 0.6290 | Recall: 0.7433 | Precision: 0.5451\n",
      "Threshold 0.40 | F1: 0.6212 | Recall: 0.8636 | Precision: 0.4850\n",
      "Threshold 0.45 | F1: 0.6308 | Recall: 0.7995 | Precision: 0.5209\n",
      "Threshold 0.35 | F1: 0.6081 | Recall: 0.9064 | Precision: 0.4575\n",
      "Threshold 0.37 | F1: 0.6155 | Recall: 0.8904 | Precision: 0.4703\n",
      "####################### ROC_AUC RF #############################\n",
      " ROC_AUC: 0.764027745485546\n",
      "\n",
      "================== Testing Model: CATBOOST ==================\n",
      "--- Train Performance ---\n",
      "Threshold 0.50 | F1: 0.8817 | Recall: 0.8649 | Precision: 0.8992\n",
      "Threshold 0.40 | F1: 0.8777 | Recall: 0.9338 | Precision: 0.8280\n",
      "Threshold 0.45 | F1: 0.8855 | Recall: 0.9023 | Precision: 0.8692\n",
      "Threshold 0.35 | F1: 0.8700 | Recall: 0.9599 | Precision: 0.7955\n",
      "Threshold 0.37 | F1: 0.8737 | Recall: 0.9505 | Precision: 0.8083\n",
      "--- Test Performance ---\n",
      "Threshold 0.50 | F1: 0.5950 | Recall: 0.6364 | Precision: 0.5587\n",
      "Threshold 0.40 | F1: 0.6217 | Recall: 0.7754 | Precision: 0.5188\n",
      "Threshold 0.45 | F1: 0.6105 | Recall: 0.6979 | Precision: 0.5426\n",
      "Threshold 0.35 | F1: 0.6193 | Recall: 0.8155 | Precision: 0.4992\n",
      "Threshold 0.37 | F1: 0.6281 | Recall: 0.8128 | Precision: 0.5118\n",
      "####################### ROC_AUC CATBOOST #############################\n",
      " ROC_AUC: 0.7663204939419774\n",
      "\n",
      "================== Testing Model: LIGHTGBM ==================\n",
      "--- Train Performance ---\n",
      "Threshold 0.50 | F1: 0.7435 | Recall: 0.8977 | Precision: 0.6345\n",
      "Threshold 0.40 | F1: 0.7075 | Recall: 0.9512 | Precision: 0.5632\n",
      "Threshold 0.45 | F1: 0.7298 | Recall: 0.9278 | Precision: 0.6015\n",
      "Threshold 0.35 | F1: 0.6848 | Recall: 0.9679 | Precision: 0.5298\n",
      "Threshold 0.37 | F1: 0.6963 | Recall: 0.9639 | Precision: 0.5450\n",
      "--- Test Performance ---\n",
      "Threshold 0.50 | F1: 0.6236 | Recall: 0.8396 | Precision: 0.4961\n",
      "Threshold 0.40 | F1: 0.6027 | Recall: 0.9064 | Precision: 0.4514\n",
      "Threshold 0.45 | F1: 0.6171 | Recall: 0.8770 | Precision: 0.4761\n",
      "Threshold 0.35 | F1: 0.5874 | Recall: 0.9251 | Precision: 0.4303\n",
      "Threshold 0.37 | F1: 0.5946 | Recall: 0.9198 | Precision: 0.4393\n",
      "####################### ROC_AUC LIGHTGBM #############################\n",
      " ROC_AUC: 0.747815753442352\n"
     ]
    }
   ],
   "source": [
    "thresholds = [0.5, 0.4, 0.45, 0.35, 0.37]\n",
    "\n",
    "for name, model in models.items():\n",
    "    print(f\"\\n================== Testing Model: {name} ==================\")\n",
    "    \n",
    "    # Create a pipeline with the current model\n",
    "    pipeline = make_pipeline(encoder, model)  \n",
    "    \n",
    "    # Fit the model\n",
    "    pipeline.fit(X_train, y_train)\n",
    "\n",
    "    # Evaluate on train set\n",
    "    y_prob_train = pipeline.predict_proba(X_train)[:, 1]\n",
    "    print(f\"--- Train Performance ---\")\n",
    "    for x in thresholds:\n",
    "        y_pred_train = (y_prob_train > x).astype(int)\n",
    "        print(f\"Threshold {x:.2f} | F1: {f1_score(y_train, y_pred_train):.4f} | Recall: {recall_score(y_train, y_pred_train):.4f} | Precision: {precision_score(y_train, y_pred_train):.4f}\")\n",
    "\n",
    "    # Evaluate on test set\n",
    "    y_prob_test = pipeline.predict_proba(X_test)[:, 1]\n",
    "    print(f\"--- Test Performance ---\")\n",
    "    for x in thresholds:\n",
    "        y_pred_test = (y_prob_test > x).astype(int)\n",
    "        print(f\"Threshold {x:.2f} | F1: {f1_score(y_test, y_pred_test):.4f} | Recall: {recall_score(y_test, y_pred_test):.4f} | Precision: {precision_score(y_test, y_pred_test):.4f}\")\n",
    "       \n",
    "        ''' We can also use ROC_AUC to find how our model seperate the Churners and Nonchurners irrespective of the threshold '''\n",
    "    print(f\"####################### ROC_AUC {name} #############################\")\n",
    "    print (f\" ROC_AUC: {rc(y_test, y_pred_test)}\")\n"
   ]
  },
  {
   "cell_type": "markdown",
   "id": "2d53ee16-c713-4381-b7ea-7adff8b8dc82",
   "metadata": {},
   "source": [
    "As it is a Churn Prediction objective, We use the F1, PRESICION and RECALL to evaluate the model"
   ]
  },
  {
   "cell_type": "markdown",
   "id": "5e665746-11cf-4952-8f1a-c07f07935766",
   "metadata": {},
   "source": [
    "Despite Ranking Last during CV, catboost appears to be our best performing model with the highest ROC AUC\n",
    "\n",
    "If we look clearly we notice it striked the balance well for F1 in all thresholds  compared to other models\n",
    "Catboost at a threshold of 0.37, it manage to balance recall at 81% and precision at 51%, giving a descent solution to the objective"
   ]
  },
  {
   "cell_type": "markdown",
   "id": "6682331c-bca6-4808-9db1-3292837201b4",
   "metadata": {},
   "source": [
    "Now to understand catboost model prediction clearer using SHAP"
   ]
  },
  {
   "cell_type": "code",
   "execution_count": 28,
   "id": "ecc9d5bb-730b-4ae8-8c89-f782fb7773c2",
   "metadata": {},
   "outputs": [
    {
     "data": {
      "image/png": "[encoded data removed]",
      "text/plain": [
       "<Figure size 800x910 with 1 Axes>"
      ]
     },
     "metadata": {},
     "output_type": "display_data"
    }
   ],
   "source": [
    "''' instantiating the model seperately '''\n",
    "\n",
    "model = CB(verbose = 0, eval_metric = 'F1', learning_rate = 0.01, iterations = 1000, depth = 10)\n",
    "\n",
    "''' Encoding categorical columns '''\n",
    "cat = X_train.select_dtypes( include = 'object').columns.tolist()\n",
    "X_train[cat] = encoder.fit_transform(X_train[cat])\n",
    "X_test[cat] = encoder.transform(X_test[cat])\n",
    "\n",
    "model.fit(X_train,y_train)\n",
    "\n",
    "explainer = shap.TreeExplainer(model)\n",
    "\n",
    "shap_values = explainer.shap_values(X_test)\n",
    "\n",
    "shap.summary_plot(shap_values, X_test, plot_type = 'bar')"
   ]
  },
  {
   "cell_type": "markdown",
   "id": "4d5b1f70-ff29-46a2-8398-09493ff3ff17",
   "metadata": {},
   "source": [
    "Now we are done prototyping, we will be using the catboost model with a 0.37 threshold to build the model\n",
    "\n",
    "This process saves time on testing and training models during building and deploying process"
   ]
  }
 ],
 "metadata": {
  "kernelspec": {
   "display_name": "Python (churn)",
   "language": "python",
   "name": "churn"
  },
  "language_info": {
   "codemirror_mode": {
    "name": "ipython",
    "version": 3
   },
   "file_extension": ".py",
   "mimetype": "text/x-python",
   "name": "python",
   "nbconvert_exporter": "python",
   "pygments_lexer": "ipython3",
   "version": "3.12.10"
  }
 },
 "nbformat": 4,
 "nbformat_minor": 5
}
